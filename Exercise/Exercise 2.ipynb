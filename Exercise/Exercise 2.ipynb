{
 "cells": [
  {
   "cell_type": "markdown",
   "id": "5ca787c3",
   "metadata": {},
   "source": [
    "# Part 2\n",
    "## Data Analysis"
   ]
  },
  {
   "cell_type": "code",
   "execution_count": 77,
   "id": "d826a877",
   "metadata": {},
   "outputs": [],
   "source": [
    "import numpy as np\n",
    "import skimage \n",
    "import pandas  as pd\n",
    "import matplotlib.pyplot as plt"
   ]
  },
  {
   "cell_type": "markdown",
   "id": "98c0030c",
   "metadata": {},
   "source": [
    "### Exercise 2.1.1 \n",
    "#### Reading data from a file"
   ]
  },
  {
   "cell_type": "markdown",
   "id": "37663bdb",
   "metadata": {},
   "source": [
    "`1. Name and describe pandas data structures`"
   ]
  },
  {
   "cell_type": "markdown",
   "id": "3a6f2ac4",
   "metadata": {},
   "source": [
    "\n",
    "\n",
    "\n",
    "1. **Pandas** is a software library for Python that provides data manipulation and analysis capabilities. It introduces two new data structures to Python - **Series** and **DataFrame**, both of which are built on top of **NumPy** (this means it's fast).\n",
    "\n",
    "    - **Series**: A Series is a one-dimensional object similar to an array, list, or column in a table. It will assign a labeled index to each item in the Series. By default, each item will receive an index label from 0 to N, where N is the length of the Series minus one.\n",
    "\n",
    "    - **DataFrame**: A DataFrame is a two-dimensional object similar to a spreadsheet or an SQL table. This is the most commonly used pandas object."
   ]
  },
  {
   "cell_type": "markdown",
   "id": "63af3443",
   "metadata": {},
   "source": [
    "`2. Load the data from the iris.tsv file into a pandas DataFrame`"
   ]
  },
  {
   "cell_type": "code",
   "execution_count": 78,
   "id": "77b54b40",
   "metadata": {},
   "outputs": [
    {
     "data": {
      "text/html": [
       "<div>\n",
       "<style scoped>\n",
       "    .dataframe tbody tr th:only-of-type {\n",
       "        vertical-align: middle;\n",
       "    }\n",
       "\n",
       "    .dataframe tbody tr th {\n",
       "        vertical-align: top;\n",
       "    }\n",
       "\n",
       "    .dataframe thead th {\n",
       "        text-align: right;\n",
       "    }\n",
       "</style>\n",
       "<table border=\"1\" class=\"dataframe\">\n",
       "  <thead>\n",
       "    <tr style=\"text-align: right;\">\n",
       "      <th></th>\n",
       "      <th>Sepal_Length</th>\n",
       "      <th>Sepal_Width</th>\n",
       "      <th>Petal_Length</th>\n",
       "      <th>Petal_Width</th>\n",
       "      <th>Species</th>\n",
       "    </tr>\n",
       "  </thead>\n",
       "  <tbody>\n",
       "    <tr>\n",
       "      <th>0</th>\n",
       "      <td>5.1</td>\n",
       "      <td>3.5</td>\n",
       "      <td>1.4</td>\n",
       "      <td>0.2</td>\n",
       "      <td>Iris-setosa</td>\n",
       "    </tr>\n",
       "    <tr>\n",
       "      <th>1</th>\n",
       "      <td>4.9</td>\n",
       "      <td>3.0</td>\n",
       "      <td>1.4</td>\n",
       "      <td>0.2</td>\n",
       "      <td>Iris-setosa</td>\n",
       "    </tr>\n",
       "    <tr>\n",
       "      <th>2</th>\n",
       "      <td>4.7</td>\n",
       "      <td>3.2</td>\n",
       "      <td>1.3</td>\n",
       "      <td>0.2</td>\n",
       "      <td>Iris-setosa</td>\n",
       "    </tr>\n",
       "    <tr>\n",
       "      <th>3</th>\n",
       "      <td>4.6</td>\n",
       "      <td>3.1</td>\n",
       "      <td>1.5</td>\n",
       "      <td>0.2</td>\n",
       "      <td>Iris-setosa</td>\n",
       "    </tr>\n",
       "    <tr>\n",
       "      <th>4</th>\n",
       "      <td>5.0</td>\n",
       "      <td>3.6</td>\n",
       "      <td>1.4</td>\n",
       "      <td>0.2</td>\n",
       "      <td>Iris-setosa</td>\n",
       "    </tr>\n",
       "    <tr>\n",
       "      <th>...</th>\n",
       "      <td>...</td>\n",
       "      <td>...</td>\n",
       "      <td>...</td>\n",
       "      <td>...</td>\n",
       "      <td>...</td>\n",
       "    </tr>\n",
       "    <tr>\n",
       "      <th>145</th>\n",
       "      <td>6.7</td>\n",
       "      <td>3.0</td>\n",
       "      <td>5.2</td>\n",
       "      <td>2.3</td>\n",
       "      <td>Iris-virginica</td>\n",
       "    </tr>\n",
       "    <tr>\n",
       "      <th>146</th>\n",
       "      <td>6.3</td>\n",
       "      <td>2.5</td>\n",
       "      <td>5.0</td>\n",
       "      <td>1.9</td>\n",
       "      <td>Iris-virginica</td>\n",
       "    </tr>\n",
       "    <tr>\n",
       "      <th>147</th>\n",
       "      <td>6.5</td>\n",
       "      <td>3.0</td>\n",
       "      <td>5.2</td>\n",
       "      <td>2.0</td>\n",
       "      <td>Iris-virginica</td>\n",
       "    </tr>\n",
       "    <tr>\n",
       "      <th>148</th>\n",
       "      <td>6.2</td>\n",
       "      <td>3.4</td>\n",
       "      <td>5.4</td>\n",
       "      <td>2.3</td>\n",
       "      <td>Iris-virginica</td>\n",
       "    </tr>\n",
       "    <tr>\n",
       "      <th>149</th>\n",
       "      <td>5.9</td>\n",
       "      <td>3.0</td>\n",
       "      <td>5.1</td>\n",
       "      <td>1.8</td>\n",
       "      <td>Iris-virginica</td>\n",
       "    </tr>\n",
       "  </tbody>\n",
       "</table>\n",
       "<p>150 rows × 5 columns</p>\n",
       "</div>"
      ],
      "text/plain": [
       "     Sepal_Length  Sepal_Width  Petal_Length  Petal_Width         Species\n",
       "0             5.1          3.5           1.4          0.2     Iris-setosa\n",
       "1             4.9          3.0           1.4          0.2     Iris-setosa\n",
       "2             4.7          3.2           1.3          0.2     Iris-setosa\n",
       "3             4.6          3.1           1.5          0.2     Iris-setosa\n",
       "4             5.0          3.6           1.4          0.2     Iris-setosa\n",
       "..            ...          ...           ...          ...             ...\n",
       "145           6.7          3.0           5.2          2.3  Iris-virginica\n",
       "146           6.3          2.5           5.0          1.9  Iris-virginica\n",
       "147           6.5          3.0           5.2          2.0  Iris-virginica\n",
       "148           6.2          3.4           5.4          2.3  Iris-virginica\n",
       "149           5.9          3.0           5.1          1.8  Iris-virginica\n",
       "\n",
       "[150 rows x 5 columns]"
      ]
     },
     "execution_count": 78,
     "metadata": {},
     "output_type": "execute_result"
    }
   ],
   "source": [
    "# 2. Load the data from the iris.tsv file into a pandas DataFrame\n",
    "# Loading the iris Data\n",
    "csv_url = 'https://archive.ics.uci.edu/ml/machine-learning-databases/iris/iris.data'\n",
    "col_names = ['Sepal_Length','Sepal_Width','Petal_Length','Petal_Width','Species']\n",
    "df = pd.read_csv(csv_url, names = col_names)\n",
    "df\n"
   ]
  },
  {
   "cell_type": "markdown",
   "id": "2fdfb098",
   "metadata": {},
   "source": [
    "`3. Show the first 5 rows of the data. Then show the last five rows of the data.`"
   ]
  },
  {
   "cell_type": "code",
   "execution_count": 79,
   "id": "02fb5412",
   "metadata": {},
   "outputs": [
    {
     "name": "stdout",
     "output_type": "stream",
     "text": [
      "   Sepal_Length  Sepal_Width  Petal_Length  Petal_Width      Species\n",
      "0           5.1          3.5           1.4          0.2  Iris-setosa\n",
      "1           4.9          3.0           1.4          0.2  Iris-setosa\n",
      "2           4.7          3.2           1.3          0.2  Iris-setosa\n",
      "3           4.6          3.1           1.5          0.2  Iris-setosa\n",
      "4           5.0          3.6           1.4          0.2  Iris-setosa\n",
      "     Sepal_Length  Sepal_Width  Petal_Length  Petal_Width         Species\n",
      "145           6.7          3.0           5.2          2.3  Iris-virginica\n",
      "146           6.3          2.5           5.0          1.9  Iris-virginica\n",
      "147           6.5          3.0           5.2          2.0  Iris-virginica\n",
      "148           6.2          3.4           5.4          2.3  Iris-virginica\n",
      "149           5.9          3.0           5.1          1.8  Iris-virginica\n"
     ]
    }
   ],
   "source": [
    "# The first 5 rows of the data\n",
    "print(df.head())\n",
    "\n",
    "# The last 5 rows of the data\n",
    "print(df.tail())\n"
   ]
  },
  {
   "cell_type": "markdown",
   "id": "e86a29c0",
   "metadata": {},
   "source": [
    "### Exercise 2.1.2 \n",
    "#### DataFrame and data extraction"
   ]
  },
  {
   "cell_type": "markdown",
   "id": "bd0e8ead",
   "metadata": {},
   "source": [
    "1. Print out the first 10 entries of the first column of the DataFrame.\n",
    "2. Extract the Sepal.Length column and save in a variable. What’s the type of the data in the new variable?\n",
    "3. Print out the first 5 entries of the first two columns.\n",
    "4. Print out the last 5 rows for Petal.Width and Species.\n",
    "5. Extract data for the species virginica only."
   ]
  },
  {
   "cell_type": "code",
   "execution_count": 80,
   "id": "428cfdf2",
   "metadata": {},
   "outputs": [
    {
     "name": "stdout",
     "output_type": "stream",
     "text": [
      "0    5.1\n",
      "1    4.9\n",
      "2    4.7\n",
      "3    4.6\n",
      "4    5.0\n",
      "5    5.4\n",
      "6    4.6\n",
      "7    5.0\n",
      "8    4.4\n",
      "9    4.9\n",
      "Name: Sepal_Length, dtype: float64\n"
     ]
    }
   ],
   "source": [
    "# 1\n",
    "print(df['Sepal_Length'].head(10))"
   ]
  },
  {
   "cell_type": "code",
   "execution_count": 81,
   "id": "5dcbbc5b",
   "metadata": {},
   "outputs": [
    {
     "name": "stdout",
     "output_type": "stream",
     "text": [
      "<class 'pandas.core.series.Series'>\n"
     ]
    }
   ],
   "source": [
    "# 2\n",
    "sepal_length = df['Sepal_Length']\n",
    "print(type(sepal_length))"
   ]
  },
  {
   "cell_type": "code",
   "execution_count": 82,
   "id": "bca4249f",
   "metadata": {},
   "outputs": [
    {
     "name": "stdout",
     "output_type": "stream",
     "text": [
      "   Sepal_Length  Sepal_Width\n",
      "0           5.1          3.5\n",
      "1           4.9          3.0\n",
      "2           4.7          3.2\n",
      "3           4.6          3.1\n",
      "4           5.0          3.6\n"
     ]
    }
   ],
   "source": [
    "# 3\n",
    "print(df[['Sepal_Length', 'Sepal_Width']].head(5))"
   ]
  },
  {
   "cell_type": "code",
   "execution_count": 83,
   "id": "b6008b29",
   "metadata": {},
   "outputs": [
    {
     "name": "stdout",
     "output_type": "stream",
     "text": [
      "     Petal_Width         Species\n",
      "145          2.3  Iris-virginica\n",
      "146          1.9  Iris-virginica\n",
      "147          2.0  Iris-virginica\n",
      "148          2.3  Iris-virginica\n",
      "149          1.8  Iris-virginica\n"
     ]
    }
   ],
   "source": [
    "# 4\n",
    "print(df[['Petal_Width', 'Species']].tail(5))"
   ]
  },
  {
   "cell_type": "code",
   "execution_count": 84,
   "id": "354fb5ed",
   "metadata": {},
   "outputs": [
    {
     "name": "stdout",
     "output_type": "stream",
     "text": [
      "     Sepal_Length  Sepal_Width  Petal_Length  Petal_Width         Species\n",
      "100           6.3          3.3           6.0          2.5  Iris-virginica\n",
      "101           5.8          2.7           5.1          1.9  Iris-virginica\n",
      "102           7.1          3.0           5.9          2.1  Iris-virginica\n",
      "103           6.3          2.9           5.6          1.8  Iris-virginica\n",
      "104           6.5          3.0           5.8          2.2  Iris-virginica\n",
      "105           7.6          3.0           6.6          2.1  Iris-virginica\n",
      "106           4.9          2.5           4.5          1.7  Iris-virginica\n",
      "107           7.3          2.9           6.3          1.8  Iris-virginica\n",
      "108           6.7          2.5           5.8          1.8  Iris-virginica\n",
      "109           7.2          3.6           6.1          2.5  Iris-virginica\n",
      "110           6.5          3.2           5.1          2.0  Iris-virginica\n",
      "111           6.4          2.7           5.3          1.9  Iris-virginica\n",
      "112           6.8          3.0           5.5          2.1  Iris-virginica\n",
      "113           5.7          2.5           5.0          2.0  Iris-virginica\n",
      "114           5.8          2.8           5.1          2.4  Iris-virginica\n",
      "115           6.4          3.2           5.3          2.3  Iris-virginica\n",
      "116           6.5          3.0           5.5          1.8  Iris-virginica\n",
      "117           7.7          3.8           6.7          2.2  Iris-virginica\n",
      "118           7.7          2.6           6.9          2.3  Iris-virginica\n",
      "119           6.0          2.2           5.0          1.5  Iris-virginica\n",
      "120           6.9          3.2           5.7          2.3  Iris-virginica\n",
      "121           5.6          2.8           4.9          2.0  Iris-virginica\n",
      "122           7.7          2.8           6.7          2.0  Iris-virginica\n",
      "123           6.3          2.7           4.9          1.8  Iris-virginica\n",
      "124           6.7          3.3           5.7          2.1  Iris-virginica\n",
      "125           7.2          3.2           6.0          1.8  Iris-virginica\n",
      "126           6.2          2.8           4.8          1.8  Iris-virginica\n",
      "127           6.1          3.0           4.9          1.8  Iris-virginica\n",
      "128           6.4          2.8           5.6          2.1  Iris-virginica\n",
      "129           7.2          3.0           5.8          1.6  Iris-virginica\n",
      "130           7.4          2.8           6.1          1.9  Iris-virginica\n",
      "131           7.9          3.8           6.4          2.0  Iris-virginica\n",
      "132           6.4          2.8           5.6          2.2  Iris-virginica\n",
      "133           6.3          2.8           5.1          1.5  Iris-virginica\n",
      "134           6.1          2.6           5.6          1.4  Iris-virginica\n",
      "135           7.7          3.0           6.1          2.3  Iris-virginica\n",
      "136           6.3          3.4           5.6          2.4  Iris-virginica\n",
      "137           6.4          3.1           5.5          1.8  Iris-virginica\n",
      "138           6.0          3.0           4.8          1.8  Iris-virginica\n",
      "139           6.9          3.1           5.4          2.1  Iris-virginica\n",
      "140           6.7          3.1           5.6          2.4  Iris-virginica\n",
      "141           6.9          3.1           5.1          2.3  Iris-virginica\n",
      "142           5.8          2.7           5.1          1.9  Iris-virginica\n",
      "143           6.8          3.2           5.9          2.3  Iris-virginica\n",
      "144           6.7          3.3           5.7          2.5  Iris-virginica\n",
      "145           6.7          3.0           5.2          2.3  Iris-virginica\n",
      "146           6.3          2.5           5.0          1.9  Iris-virginica\n",
      "147           6.5          3.0           5.2          2.0  Iris-virginica\n",
      "148           6.2          3.4           5.4          2.3  Iris-virginica\n",
      "149           5.9          3.0           5.1          1.8  Iris-virginica\n"
     ]
    }
   ],
   "source": [
    "# 5\n",
    "virginica_data = df[df['Species'] == 'Iris-virginica']\n",
    "print(virginica_data)"
   ]
  },
  {
   "cell_type": "markdown",
   "id": "1451215d",
   "metadata": {},
   "source": [
    "## Exercise 2.1.3 \n",
    "### DataFrame and data summarization"
   ]
  },
  {
   "cell_type": "markdown",
   "id": "bf7db517",
   "metadata": {},
   "source": [
    "1. Get the minimum, maximum, mean and median petal width.\n",
    "2. Get the number of entries per species.\n",
    "3. Plot species count as barplot.\n",
    "4. Get the mean petal width by species."
   ]
  },
  {
   "cell_type": "code",
   "execution_count": 85,
   "id": "c49b2dbc",
   "metadata": {},
   "outputs": [
    {
     "name": "stdout",
     "output_type": "stream",
     "text": [
      "Minimum Petal Width:  0.1\n",
      "Maximum Petal Width:  2.5\n",
      "Mean Petal Width:  1.1986666666666672\n",
      "Median Petal Width:  1.3\n"
     ]
    }
   ],
   "source": [
    "# 1\n",
    "print(\"Minimum Petal Width: \", df['Petal_Width'].min())\n",
    "print(\"Maximum Petal Width: \", df['Petal_Width'].max())\n",
    "print(\"Mean Petal Width: \", df['Petal_Width'].mean())\n",
    "print(\"Median Petal Width: \", df['Petal_Width'].median())"
   ]
  },
  {
   "cell_type": "code",
   "execution_count": 86,
   "id": "d0669d5c",
   "metadata": {},
   "outputs": [
    {
     "name": "stdout",
     "output_type": "stream",
     "text": [
      "Iris-setosa        50\n",
      "Iris-versicolor    50\n",
      "Iris-virginica     50\n",
      "Name: Species, dtype: int64\n"
     ]
    }
   ],
   "source": [
    "# 2\n",
    "print(df['Species'].value_counts())"
   ]
  },
  {
   "cell_type": "code",
   "execution_count": 87,
   "id": "23a3eec7",
   "metadata": {},
   "outputs": [
    {
     "data": {
      "image/png": "[encoded data removed]",
      "text/plain": [
       "<Figure size 432x288 with 1 Axes>"
      ]
     },
     "metadata": {
      "needs_background": "light"
     },
     "output_type": "display_data"
    }
   ],
   "source": [
    "# 3\n",
    "df['Species'].value_counts().plot(kind='bar')\n",
    "plt.show()"
   ]
  },
  {
   "cell_type": "code",
   "execution_count": 88,
   "id": "28b4f031",
   "metadata": {},
   "outputs": [
    {
     "name": "stdout",
     "output_type": "stream",
     "text": [
      "Species\n",
      "Iris-setosa        0.244\n",
      "Iris-versicolor    1.326\n",
      "Iris-virginica     2.026\n",
      "Name: Petal_Width, dtype: float64\n"
     ]
    }
   ],
   "source": [
    "# 4\n",
    "print(df.groupby('Species')['Petal_Width'].mean())"
   ]
  },
  {
   "cell_type": "markdown",
   "id": "d223c013",
   "metadata": {},
   "source": [
    "## Exercise 2.1.4 \n",
    "### Filling-up a DataFrame"
   ]
  },
  {
   "cell_type": "markdown",
   "id": "b013b406",
   "metadata": {},
   "source": [
    "1. Create a DataFrame with three columns species, height and weight and add an entry to the end.\n",
    "2. Create a DataFrame with the same columns and 50 empty entries. Fill-up the data frame row by row with 50 random entries.\n",
    "3. Update every second entry, set the species name to M.musculus.\n",
    "4. Save the DataFrame to your harddisk as a csv file. Include the header but not the row indexes.\n",
    "5. Save the DataFrame as a tsv file (tab separated values)."
   ]
  },
  {
   "cell_type": "code",
   "execution_count": 89,
   "id": "ea61defe",
   "metadata": {},
   "outputs": [
    {
     "data": {
      "text/html": [
       "<div>\n",
       "<style scoped>\n",
       "    .dataframe tbody tr th:only-of-type {\n",
       "        vertical-align: middle;\n",
       "    }\n",
       "\n",
       "    .dataframe tbody tr th {\n",
       "        vertical-align: top;\n",
       "    }\n",
       "\n",
       "    .dataframe thead th {\n",
       "        text-align: right;\n",
       "    }\n",
       "</style>\n",
       "<table border=\"1\" class=\"dataframe\">\n",
       "  <thead>\n",
       "    <tr style=\"text-align: right;\">\n",
       "      <th></th>\n",
       "      <th>species</th>\n",
       "      <th>height</th>\n",
       "      <th>weight</th>\n",
       "    </tr>\n",
       "  </thead>\n",
       "  <tbody>\n",
       "    <tr>\n",
       "      <th>0</th>\n",
       "      <td>Homo sapiens</td>\n",
       "      <td>170</td>\n",
       "      <td>70</td>\n",
       "    </tr>\n",
       "  </tbody>\n",
       "</table>\n",
       "</div>"
      ],
      "text/plain": [
       "        species height weight\n",
       "0  Homo sapiens    170     70"
      ]
     },
     "execution_count": 89,
     "metadata": {},
     "output_type": "execute_result"
    }
   ],
   "source": [
    "df_new = pd.DataFrame(columns=['species', 'height', 'weight'])\n",
    "data = pd.DataFrame([['Homo sapiens', 170, 70]], columns=['species', 'height', 'weight'])\n",
    "df_new = pd.concat([df_new, data], ignore_index=True)\n",
    "df_new"
   ]
  },
  {
   "cell_type": "code",
   "execution_count": 90,
   "id": "7b640adf",
   "metadata": {
    "scrolled": true
   },
   "outputs": [
    {
     "data": {
      "text/html": [
       "<div>\n",
       "<style scoped>\n",
       "    .dataframe tbody tr th:only-of-type {\n",
       "        vertical-align: middle;\n",
       "    }\n",
       "\n",
       "    .dataframe tbody tr th {\n",
       "        vertical-align: top;\n",
       "    }\n",
       "\n",
       "    .dataframe thead th {\n",
       "        text-align: right;\n",
       "    }\n",
       "</style>\n",
       "<table border=\"1\" class=\"dataframe\">\n",
       "  <thead>\n",
       "    <tr style=\"text-align: right;\">\n",
       "      <th></th>\n",
       "      <th>species</th>\n",
       "      <th>height</th>\n",
       "      <th>weight</th>\n",
       "    </tr>\n",
       "  </thead>\n",
       "  <tbody>\n",
       "    <tr>\n",
       "      <th>0</th>\n",
       "      <td>Species0</td>\n",
       "      <td>186.0</td>\n",
       "      <td>65.0</td>\n",
       "    </tr>\n",
       "    <tr>\n",
       "      <th>1</th>\n",
       "      <td>Species1</td>\n",
       "      <td>181.0</td>\n",
       "      <td>70.0</td>\n",
       "    </tr>\n",
       "    <tr>\n",
       "      <th>2</th>\n",
       "      <td>Species2</td>\n",
       "      <td>122.0</td>\n",
       "      <td>61.0</td>\n",
       "    </tr>\n",
       "    <tr>\n",
       "      <th>3</th>\n",
       "      <td>Species3</td>\n",
       "      <td>172.0</td>\n",
       "      <td>69.0</td>\n",
       "    </tr>\n",
       "    <tr>\n",
       "      <th>4</th>\n",
       "      <td>Species4</td>\n",
       "      <td>157.0</td>\n",
       "      <td>93.0</td>\n",
       "    </tr>\n",
       "    <tr>\n",
       "      <th>5</th>\n",
       "      <td>Species5</td>\n",
       "      <td>175.0</td>\n",
       "      <td>30.0</td>\n",
       "    </tr>\n",
       "    <tr>\n",
       "      <th>6</th>\n",
       "      <td>Species6</td>\n",
       "      <td>137.0</td>\n",
       "      <td>99.0</td>\n",
       "    </tr>\n",
       "    <tr>\n",
       "      <th>7</th>\n",
       "      <td>Species7</td>\n",
       "      <td>126.0</td>\n",
       "      <td>46.0</td>\n",
       "    </tr>\n",
       "    <tr>\n",
       "      <th>8</th>\n",
       "      <td>Species8</td>\n",
       "      <td>164.0</td>\n",
       "      <td>89.0</td>\n",
       "    </tr>\n",
       "    <tr>\n",
       "      <th>9</th>\n",
       "      <td>Species9</td>\n",
       "      <td>167.0</td>\n",
       "      <td>69.0</td>\n",
       "    </tr>\n",
       "    <tr>\n",
       "      <th>10</th>\n",
       "      <td>Species10</td>\n",
       "      <td>177.0</td>\n",
       "      <td>56.0</td>\n",
       "    </tr>\n",
       "    <tr>\n",
       "      <th>11</th>\n",
       "      <td>Species11</td>\n",
       "      <td>148.0</td>\n",
       "      <td>68.0</td>\n",
       "    </tr>\n",
       "    <tr>\n",
       "      <th>12</th>\n",
       "      <td>Species12</td>\n",
       "      <td>120.0</td>\n",
       "      <td>95.0</td>\n",
       "    </tr>\n",
       "    <tr>\n",
       "      <th>13</th>\n",
       "      <td>Species13</td>\n",
       "      <td>155.0</td>\n",
       "      <td>91.0</td>\n",
       "    </tr>\n",
       "    <tr>\n",
       "      <th>14</th>\n",
       "      <td>Species14</td>\n",
       "      <td>185.0</td>\n",
       "      <td>48.0</td>\n",
       "    </tr>\n",
       "    <tr>\n",
       "      <th>15</th>\n",
       "      <td>Species15</td>\n",
       "      <td>129.0</td>\n",
       "      <td>63.0</td>\n",
       "    </tr>\n",
       "    <tr>\n",
       "      <th>16</th>\n",
       "      <td>Species16</td>\n",
       "      <td>198.0</td>\n",
       "      <td>97.0</td>\n",
       "    </tr>\n",
       "    <tr>\n",
       "      <th>17</th>\n",
       "      <td>Species17</td>\n",
       "      <td>182.0</td>\n",
       "      <td>32.0</td>\n",
       "    </tr>\n",
       "    <tr>\n",
       "      <th>18</th>\n",
       "      <td>Species18</td>\n",
       "      <td>128.0</td>\n",
       "      <td>53.0</td>\n",
       "    </tr>\n",
       "    <tr>\n",
       "      <th>19</th>\n",
       "      <td>Species19</td>\n",
       "      <td>122.0</td>\n",
       "      <td>84.0</td>\n",
       "    </tr>\n",
       "    <tr>\n",
       "      <th>20</th>\n",
       "      <td>Species20</td>\n",
       "      <td>185.0</td>\n",
       "      <td>30.0</td>\n",
       "    </tr>\n",
       "    <tr>\n",
       "      <th>21</th>\n",
       "      <td>Species21</td>\n",
       "      <td>123.0</td>\n",
       "      <td>48.0</td>\n",
       "    </tr>\n",
       "    <tr>\n",
       "      <th>22</th>\n",
       "      <td>Species22</td>\n",
       "      <td>106.0</td>\n",
       "      <td>33.0</td>\n",
       "    </tr>\n",
       "    <tr>\n",
       "      <th>23</th>\n",
       "      <td>Species23</td>\n",
       "      <td>197.0</td>\n",
       "      <td>65.0</td>\n",
       "    </tr>\n",
       "    <tr>\n",
       "      <th>24</th>\n",
       "      <td>Species24</td>\n",
       "      <td>136.0</td>\n",
       "      <td>22.0</td>\n",
       "    </tr>\n",
       "    <tr>\n",
       "      <th>25</th>\n",
       "      <td>Species25</td>\n",
       "      <td>136.0</td>\n",
       "      <td>41.0</td>\n",
       "    </tr>\n",
       "    <tr>\n",
       "      <th>26</th>\n",
       "      <td>Species26</td>\n",
       "      <td>124.0</td>\n",
       "      <td>51.0</td>\n",
       "    </tr>\n",
       "    <tr>\n",
       "      <th>27</th>\n",
       "      <td>Species27</td>\n",
       "      <td>156.0</td>\n",
       "      <td>21.0</td>\n",
       "    </tr>\n",
       "    <tr>\n",
       "      <th>28</th>\n",
       "      <td>Species28</td>\n",
       "      <td>154.0</td>\n",
       "      <td>58.0</td>\n",
       "    </tr>\n",
       "    <tr>\n",
       "      <th>29</th>\n",
       "      <td>Species29</td>\n",
       "      <td>112.0</td>\n",
       "      <td>43.0</td>\n",
       "    </tr>\n",
       "    <tr>\n",
       "      <th>30</th>\n",
       "      <td>Species30</td>\n",
       "      <td>127.0</td>\n",
       "      <td>71.0</td>\n",
       "    </tr>\n",
       "    <tr>\n",
       "      <th>31</th>\n",
       "      <td>Species31</td>\n",
       "      <td>152.0</td>\n",
       "      <td>20.0</td>\n",
       "    </tr>\n",
       "    <tr>\n",
       "      <th>32</th>\n",
       "      <td>Species32</td>\n",
       "      <td>189.0</td>\n",
       "      <td>29.0</td>\n",
       "    </tr>\n",
       "    <tr>\n",
       "      <th>33</th>\n",
       "      <td>Species33</td>\n",
       "      <td>124.0</td>\n",
       "      <td>34.0</td>\n",
       "    </tr>\n",
       "    <tr>\n",
       "      <th>34</th>\n",
       "      <td>Species34</td>\n",
       "      <td>169.0</td>\n",
       "      <td>83.0</td>\n",
       "    </tr>\n",
       "    <tr>\n",
       "      <th>35</th>\n",
       "      <td>Species35</td>\n",
       "      <td>193.0</td>\n",
       "      <td>87.0</td>\n",
       "    </tr>\n",
       "    <tr>\n",
       "      <th>36</th>\n",
       "      <td>Species36</td>\n",
       "      <td>163.0</td>\n",
       "      <td>21.0</td>\n",
       "    </tr>\n",
       "    <tr>\n",
       "      <th>37</th>\n",
       "      <td>Species37</td>\n",
       "      <td>100.0</td>\n",
       "      <td>51.0</td>\n",
       "    </tr>\n",
       "    <tr>\n",
       "      <th>38</th>\n",
       "      <td>Species38</td>\n",
       "      <td>172.0</td>\n",
       "      <td>74.0</td>\n",
       "    </tr>\n",
       "    <tr>\n",
       "      <th>39</th>\n",
       "      <td>Species39</td>\n",
       "      <td>153.0</td>\n",
       "      <td>23.0</td>\n",
       "    </tr>\n",
       "    <tr>\n",
       "      <th>40</th>\n",
       "      <td>Species40</td>\n",
       "      <td>186.0</td>\n",
       "      <td>90.0</td>\n",
       "    </tr>\n",
       "    <tr>\n",
       "      <th>41</th>\n",
       "      <td>Species41</td>\n",
       "      <td>122.0</td>\n",
       "      <td>36.0</td>\n",
       "    </tr>\n",
       "    <tr>\n",
       "      <th>42</th>\n",
       "      <td>Species42</td>\n",
       "      <td>178.0</td>\n",
       "      <td>87.0</td>\n",
       "    </tr>\n",
       "    <tr>\n",
       "      <th>43</th>\n",
       "      <td>Species43</td>\n",
       "      <td>101.0</td>\n",
       "      <td>50.0</td>\n",
       "    </tr>\n",
       "    <tr>\n",
       "      <th>44</th>\n",
       "      <td>Species44</td>\n",
       "      <td>144.0</td>\n",
       "      <td>86.0</td>\n",
       "    </tr>\n",
       "    <tr>\n",
       "      <th>45</th>\n",
       "      <td>Species45</td>\n",
       "      <td>164.0</td>\n",
       "      <td>38.0</td>\n",
       "    </tr>\n",
       "    <tr>\n",
       "      <th>46</th>\n",
       "      <td>Species46</td>\n",
       "      <td>135.0</td>\n",
       "      <td>71.0</td>\n",
       "    </tr>\n",
       "    <tr>\n",
       "      <th>47</th>\n",
       "      <td>Species47</td>\n",
       "      <td>155.0</td>\n",
       "      <td>72.0</td>\n",
       "    </tr>\n",
       "    <tr>\n",
       "      <th>48</th>\n",
       "      <td>Species48</td>\n",
       "      <td>107.0</td>\n",
       "      <td>25.0</td>\n",
       "    </tr>\n",
       "    <tr>\n",
       "      <th>49</th>\n",
       "      <td>Species49</td>\n",
       "      <td>192.0</td>\n",
       "      <td>94.0</td>\n",
       "    </tr>\n",
       "  </tbody>\n",
       "</table>\n",
       "</div>"
      ],
      "text/plain": [
       "      species  height  weight\n",
       "0    Species0   186.0    65.0\n",
       "1    Species1   181.0    70.0\n",
       "2    Species2   122.0    61.0\n",
       "3    Species3   172.0    69.0\n",
       "4    Species4   157.0    93.0\n",
       "5    Species5   175.0    30.0\n",
       "6    Species6   137.0    99.0\n",
       "7    Species7   126.0    46.0\n",
       "8    Species8   164.0    89.0\n",
       "9    Species9   167.0    69.0\n",
       "10  Species10   177.0    56.0\n",
       "11  Species11   148.0    68.0\n",
       "12  Species12   120.0    95.0\n",
       "13  Species13   155.0    91.0\n",
       "14  Species14   185.0    48.0\n",
       "15  Species15   129.0    63.0\n",
       "16  Species16   198.0    97.0\n",
       "17  Species17   182.0    32.0\n",
       "18  Species18   128.0    53.0\n",
       "19  Species19   122.0    84.0\n",
       "20  Species20   185.0    30.0\n",
       "21  Species21   123.0    48.0\n",
       "22  Species22   106.0    33.0\n",
       "23  Species23   197.0    65.0\n",
       "24  Species24   136.0    22.0\n",
       "25  Species25   136.0    41.0\n",
       "26  Species26   124.0    51.0\n",
       "27  Species27   156.0    21.0\n",
       "28  Species28   154.0    58.0\n",
       "29  Species29   112.0    43.0\n",
       "30  Species30   127.0    71.0\n",
       "31  Species31   152.0    20.0\n",
       "32  Species32   189.0    29.0\n",
       "33  Species33   124.0    34.0\n",
       "34  Species34   169.0    83.0\n",
       "35  Species35   193.0    87.0\n",
       "36  Species36   163.0    21.0\n",
       "37  Species37   100.0    51.0\n",
       "38  Species38   172.0    74.0\n",
       "39  Species39   153.0    23.0\n",
       "40  Species40   186.0    90.0\n",
       "41  Species41   122.0    36.0\n",
       "42  Species42   178.0    87.0\n",
       "43  Species43   101.0    50.0\n",
       "44  Species44   144.0    86.0\n",
       "45  Species45   164.0    38.0\n",
       "46  Species46   135.0    71.0\n",
       "47  Species47   155.0    72.0\n",
       "48  Species48   107.0    25.0\n",
       "49  Species49   192.0    94.0"
      ]
     },
     "execution_count": 90,
     "metadata": {},
     "output_type": "execute_result"
    }
   ],
   "source": [
    "df2 = pd.DataFrame(np.nan, index=range(50), columns=['species', 'height', 'weight'])\n",
    "for i in range(50):\n",
    "    df2.loc[i] = ['Species' + str(i), np.random.randint(100, 200), np.random.randint(20, 100)]\n",
    "df2"
   ]
  },
  {
   "cell_type": "code",
   "execution_count": 91,
   "id": "016770c1",
   "metadata": {},
   "outputs": [],
   "source": [
    "df2.loc[::2, 'species'] = 'M.musculus'"
   ]
  },
  {
   "cell_type": "code",
   "execution_count": 92,
   "id": "215057e8",
   "metadata": {},
   "outputs": [],
   "source": [
    "df2.to_csv('dataframe.csv', index=False)\n"
   ]
  },
  {
   "cell_type": "code",
   "execution_count": 93,
   "id": "ad47600a",
   "metadata": {},
   "outputs": [],
   "source": [
    "df2.to_csv('dataframe.tsv', sep='\\t', index=False)\n"
   ]
  }
 ],
 "metadata": {
  "kernelspec": {
   "display_name": "Python 3 (ipykernel)",
   "language": "python",
   "name": "python3"
  },
  "language_info": {
   "codemirror_mode": {
    "name": "ipython",
    "version": 3
   },
   "file_extension": ".py",
   "mimetype": "text/x-python",
   "name": "python",
   "nbconvert_exporter": "python",
   "pygments_lexer": "ipython3",
   "version": "3.9.12"
  }
 },
 "nbformat": 4,
 "nbformat_minor": 5
}
