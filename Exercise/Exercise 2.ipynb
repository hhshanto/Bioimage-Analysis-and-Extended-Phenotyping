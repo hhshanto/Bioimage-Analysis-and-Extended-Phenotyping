{
 "cells": [
  {
   "cell_type": "markdown",
   "id": "5ca787c3",
   "metadata": {},
   "source": [
    "# Part 2\n",
    "## Data Analysis"
   ]
  },
  {
   "cell_type": "code",
   "execution_count": 2,
   "id": "d826a877",
   "metadata": {},
   "outputs": [],
   "source": [
    "import numpy as np\n",
    "import skimage \n",
    "import pandas  as pd\n",
    "import matplotlib.pyplot as plt"
   ]
  },
  {
   "cell_type": "markdown",
   "id": "98c0030c",
   "metadata": {},
   "source": [
    "### Exercise 2.1.1 \n",
    "#### Reading data from a file"
   ]
  },
  {
   "cell_type": "markdown",
   "id": "37663bdb",
   "metadata": {},
   "source": [
    "`1. Name and describe pandas data structures`"
   ]
  },
  {
   "cell_type": "markdown",
   "id": "3a6f2ac4",
   "metadata": {},
   "source": [
    "\n",
    "\n",
    "\n",
    "1. **Pandas** is a software library for Python that provides data manipulation and analysis capabilities. It introduces two new data structures to Python - **Series** and **DataFrame**, both of which are built on top of **NumPy** (this means it's fast).\n",
    "\n",
    "    - **Series**: A Series is a one-dimensional object similar to an array, list, or column in a table. It will assign a labeled index to each item in the Series. By default, each item will receive an index label from 0 to N, where N is the length of the Series minus one.\n",
    "\n",
    "    - **DataFrame**: A DataFrame is a two-dimensional object similar to a spreadsheet or an SQL table. This is the most commonly used pandas object."
   ]
  },
  {
   "cell_type": "markdown",
   "id": "63af3443",
   "metadata": {},
   "source": [
    "`2. Load the data from the iris.tsv file into a pandas DataFrame`"
   ]
  },
  {
   "cell_type": "code",
   "execution_count": 3,
   "id": "77b54b40",
   "metadata": {},
   "outputs": [
    {
     "data": {
      "text/html": [
       "<div>\n",
       "<style scoped>\n",
       "    .dataframe tbody tr th:only-of-type {\n",
       "        vertical-align: middle;\n",
       "    }\n",
       "\n",
       "    .dataframe tbody tr th {\n",
       "        vertical-align: top;\n",
       "    }\n",
       "\n",
       "    .dataframe thead th {\n",
       "        text-align: right;\n",
       "    }\n",
       "</style>\n",
       "<table border=\"1\" class=\"dataframe\">\n",
       "  <thead>\n",
       "    <tr style=\"text-align: right;\">\n",
       "      <th></th>\n",
       "      <th>Sepal_Length</th>\n",
       "      <th>Sepal_Width</th>\n",
       "      <th>Petal_Length</th>\n",
       "      <th>Petal_Width</th>\n",
       "      <th>Species</th>\n",
       "    </tr>\n",
       "  </thead>\n",
       "  <tbody>\n",
       "    <tr>\n",
       "      <th>0</th>\n",
       "      <td>5.1</td>\n",
       "      <td>3.5</td>\n",
       "      <td>1.4</td>\n",
       "      <td>0.2</td>\n",
       "      <td>Iris-setosa</td>\n",
       "    </tr>\n",
       "    <tr>\n",
       "      <th>1</th>\n",
       "      <td>4.9</td>\n",
       "      <td>3.0</td>\n",
       "      <td>1.4</td>\n",
       "      <td>0.2</td>\n",
       "      <td>Iris-setosa</td>\n",
       "    </tr>\n",
       "    <tr>\n",
       "      <th>2</th>\n",
       "      <td>4.7</td>\n",
       "      <td>3.2</td>\n",
       "      <td>1.3</td>\n",
       "      <td>0.2</td>\n",
       "      <td>Iris-setosa</td>\n",
       "    </tr>\n",
       "    <tr>\n",
       "      <th>3</th>\n",
       "      <td>4.6</td>\n",
       "      <td>3.1</td>\n",
       "      <td>1.5</td>\n",
       "      <td>0.2</td>\n",
       "      <td>Iris-setosa</td>\n",
       "    </tr>\n",
       "    <tr>\n",
       "      <th>4</th>\n",
       "      <td>5.0</td>\n",
       "      <td>3.6</td>\n",
       "      <td>1.4</td>\n",
       "      <td>0.2</td>\n",
       "      <td>Iris-setosa</td>\n",
       "    </tr>\n",
       "    <tr>\n",
       "      <th>...</th>\n",
       "      <td>...</td>\n",
       "      <td>...</td>\n",
       "      <td>...</td>\n",
       "      <td>...</td>\n",
       "      <td>...</td>\n",
       "    </tr>\n",
       "    <tr>\n",
       "      <th>145</th>\n",
       "      <td>6.7</td>\n",
       "      <td>3.0</td>\n",
       "      <td>5.2</td>\n",
       "      <td>2.3</td>\n",
       "      <td>Iris-virginica</td>\n",
       "    </tr>\n",
       "    <tr>\n",
       "      <th>146</th>\n",
       "      <td>6.3</td>\n",
       "      <td>2.5</td>\n",
       "      <td>5.0</td>\n",
       "      <td>1.9</td>\n",
       "      <td>Iris-virginica</td>\n",
       "    </tr>\n",
       "    <tr>\n",
       "      <th>147</th>\n",
       "      <td>6.5</td>\n",
       "      <td>3.0</td>\n",
       "      <td>5.2</td>\n",
       "      <td>2.0</td>\n",
       "      <td>Iris-virginica</td>\n",
       "    </tr>\n",
       "    <tr>\n",
       "      <th>148</th>\n",
       "      <td>6.2</td>\n",
       "      <td>3.4</td>\n",
       "      <td>5.4</td>\n",
       "      <td>2.3</td>\n",
       "      <td>Iris-virginica</td>\n",
       "    </tr>\n",
       "    <tr>\n",
       "      <th>149</th>\n",
       "      <td>5.9</td>\n",
       "      <td>3.0</td>\n",
       "      <td>5.1</td>\n",
       "      <td>1.8</td>\n",
       "      <td>Iris-virginica</td>\n",
       "    </tr>\n",
       "  </tbody>\n",
       "</table>\n",
       "<p>150 rows × 5 columns</p>\n",
       "</div>"
      ],
      "text/plain": [
       "     Sepal_Length  Sepal_Width  Petal_Length  Petal_Width         Species\n",
       "0             5.1          3.5           1.4          0.2     Iris-setosa\n",
       "1             4.9          3.0           1.4          0.2     Iris-setosa\n",
       "2             4.7          3.2           1.3          0.2     Iris-setosa\n",
       "3             4.6          3.1           1.5          0.2     Iris-setosa\n",
       "4             5.0          3.6           1.4          0.2     Iris-setosa\n",
       "..            ...          ...           ...          ...             ...\n",
       "145           6.7          3.0           5.2          2.3  Iris-virginica\n",
       "146           6.3          2.5           5.0          1.9  Iris-virginica\n",
       "147           6.5          3.0           5.2          2.0  Iris-virginica\n",
       "148           6.2          3.4           5.4          2.3  Iris-virginica\n",
       "149           5.9          3.0           5.1          1.8  Iris-virginica\n",
       "\n",
       "[150 rows x 5 columns]"
      ]
     },
     "execution_count": 3,
     "metadata": {},
     "output_type": "execute_result"
    }
   ],
   "source": [
    "# 2. Load the data from the iris.tsv file into a pandas DataFrame\n",
    "# Loading the iris Data\n",
    "csv_url = 'https://archive.ics.uci.edu/ml/machine-learning-databases/iris/iris.data'\n",
    "col_names = ['Sepal_Length','Sepal_Width','Petal_Length','Petal_Width','Species']\n",
    "df = pd.read_csv(csv_url, names = col_names)\n",
    "df\n"
   ]
  },
  {
   "cell_type": "markdown",
   "id": "2fdfb098",
   "metadata": {},
   "source": [
    "`3. Show the first 5 rows of the data. Then show the last five rows of the data.`"
   ]
  },
  {
   "cell_type": "code",
   "execution_count": 4,
   "id": "02fb5412",
   "metadata": {},
   "outputs": [
    {
     "name": "stdout",
     "output_type": "stream",
     "text": [
      "   Sepal_Length  Sepal_Width  Petal_Length  Petal_Width      Species\n",
      "0           5.1          3.5           1.4          0.2  Iris-setosa\n",
      "1           4.9          3.0           1.4          0.2  Iris-setosa\n",
      "2           4.7          3.2           1.3          0.2  Iris-setosa\n",
      "3           4.6          3.1           1.5          0.2  Iris-setosa\n",
      "4           5.0          3.6           1.4          0.2  Iris-setosa\n",
      "     Sepal_Length  Sepal_Width  Petal_Length  Petal_Width         Species\n",
      "145           6.7          3.0           5.2          2.3  Iris-virginica\n",
      "146           6.3          2.5           5.0          1.9  Iris-virginica\n",
      "147           6.5          3.0           5.2          2.0  Iris-virginica\n",
      "148           6.2          3.4           5.4          2.3  Iris-virginica\n",
      "149           5.9          3.0           5.1          1.8  Iris-virginica\n"
     ]
    }
   ],
   "source": [
    "# The first 5 rows of the data\n",
    "print(df.head())\n",
    "\n",
    "# The last 5 rows of the data\n",
    "print(df.tail())\n"
   ]
  },
  {
   "cell_type": "markdown",
   "id": "e86a29c0",
   "metadata": {},
   "source": [
    "### Exercise 2.1.2 \n",
    "#### DataFrame and data extraction"
   ]
  },
  {
   "cell_type": "markdown",
   "id": "bd0e8ead",
   "metadata": {},
   "source": [
    "1. Print out the first 10 entries of the first column of the DataFrame.\n",
    "2. Extract the Sepal.Length column and save in a variable. What’s the type of the data in the new variable?\n",
    "3. Print out the first 5 entries of the first two columns.\n",
    "4. Print out the last 5 rows for Petal.Width and Species.\n",
    "5. Extract data for the species virginica only."
   ]
  },
  {
   "cell_type": "code",
   "execution_count": 5,
   "id": "428cfdf2",
   "metadata": {},
   "outputs": [
    {
     "name": "stdout",
     "output_type": "stream",
     "text": [
      "0    5.1\n",
      "1    4.9\n",
      "2    4.7\n",
      "3    4.6\n",
      "4    5.0\n",
      "5    5.4\n",
      "6    4.6\n",
      "7    5.0\n",
      "8    4.4\n",
      "9    4.9\n",
      "Name: Sepal_Length, dtype: float64\n"
     ]
    }
   ],
   "source": [
    "# 1\n",
    "print(df['Sepal_Length'].head(10))"
   ]
  },
  {
   "cell_type": "code",
   "execution_count": 6,
   "id": "5dcbbc5b",
   "metadata": {},
   "outputs": [
    {
     "name": "stdout",
     "output_type": "stream",
     "text": [
      "<class 'pandas.core.series.Series'>\n"
     ]
    }
   ],
   "source": [
    "# 2\n",
    "sepal_length = df['Sepal_Length']\n",
    "print(type(sepal_length))"
   ]
  },
  {
   "cell_type": "code",
   "execution_count": 7,
   "id": "bca4249f",
   "metadata": {},
   "outputs": [
    {
     "name": "stdout",
     "output_type": "stream",
     "text": [
      "   Sepal_Length  Sepal_Width\n",
      "0           5.1          3.5\n",
      "1           4.9          3.0\n",
      "2           4.7          3.2\n",
      "3           4.6          3.1\n",
      "4           5.0          3.6\n"
     ]
    }
   ],
   "source": [
    "# 3\n",
    "print(df[['Sepal_Length', 'Sepal_Width']].head(5))"
   ]
  },
  {
   "cell_type": "code",
   "execution_count": 8,
   "id": "b6008b29",
   "metadata": {},
   "outputs": [
    {
     "name": "stdout",
     "output_type": "stream",
     "text": [
      "     Petal_Width         Species\n",
      "145          2.3  Iris-virginica\n",
      "146          1.9  Iris-virginica\n",
      "147          2.0  Iris-virginica\n",
      "148          2.3  Iris-virginica\n",
      "149          1.8  Iris-virginica\n"
     ]
    }
   ],
   "source": [
    "# 4\n",
    "print(df[['Petal_Width', 'Species']].tail(5))"
   ]
  },
  {
   "cell_type": "code",
   "execution_count": 9,
   "id": "354fb5ed",
   "metadata": {},
   "outputs": [
    {
     "name": "stdout",
     "output_type": "stream",
     "text": [
      "     Sepal_Length  Sepal_Width  Petal_Length  Petal_Width         Species\n",
      "100           6.3          3.3           6.0          2.5  Iris-virginica\n",
      "101           5.8          2.7           5.1          1.9  Iris-virginica\n",
      "102           7.1          3.0           5.9          2.1  Iris-virginica\n",
      "103           6.3          2.9           5.6          1.8  Iris-virginica\n",
      "104           6.5          3.0           5.8          2.2  Iris-virginica\n",
      "105           7.6          3.0           6.6          2.1  Iris-virginica\n",
      "106           4.9          2.5           4.5          1.7  Iris-virginica\n",
      "107           7.3          2.9           6.3          1.8  Iris-virginica\n",
      "108           6.7          2.5           5.8          1.8  Iris-virginica\n",
      "109           7.2          3.6           6.1          2.5  Iris-virginica\n",
      "110           6.5          3.2           5.1          2.0  Iris-virginica\n",
      "111           6.4          2.7           5.3          1.9  Iris-virginica\n",
      "112           6.8          3.0           5.5          2.1  Iris-virginica\n",
      "113           5.7          2.5           5.0          2.0  Iris-virginica\n",
      "114           5.8          2.8           5.1          2.4  Iris-virginica\n",
      "115           6.4          3.2           5.3          2.3  Iris-virginica\n",
      "116           6.5          3.0           5.5          1.8  Iris-virginica\n",
      "117           7.7          3.8           6.7          2.2  Iris-virginica\n",
      "118           7.7          2.6           6.9          2.3  Iris-virginica\n",
      "119           6.0          2.2           5.0          1.5  Iris-virginica\n",
      "120           6.9          3.2           5.7          2.3  Iris-virginica\n",
      "121           5.6          2.8           4.9          2.0  Iris-virginica\n",
      "122           7.7          2.8           6.7          2.0  Iris-virginica\n",
      "123           6.3          2.7           4.9          1.8  Iris-virginica\n",
      "124           6.7          3.3           5.7          2.1  Iris-virginica\n",
      "125           7.2          3.2           6.0          1.8  Iris-virginica\n",
      "126           6.2          2.8           4.8          1.8  Iris-virginica\n",
      "127           6.1          3.0           4.9          1.8  Iris-virginica\n",
      "128           6.4          2.8           5.6          2.1  Iris-virginica\n",
      "129           7.2          3.0           5.8          1.6  Iris-virginica\n",
      "130           7.4          2.8           6.1          1.9  Iris-virginica\n",
      "131           7.9          3.8           6.4          2.0  Iris-virginica\n",
      "132           6.4          2.8           5.6          2.2  Iris-virginica\n",
      "133           6.3          2.8           5.1          1.5  Iris-virginica\n",
      "134           6.1          2.6           5.6          1.4  Iris-virginica\n",
      "135           7.7          3.0           6.1          2.3  Iris-virginica\n",
      "136           6.3          3.4           5.6          2.4  Iris-virginica\n",
      "137           6.4          3.1           5.5          1.8  Iris-virginica\n",
      "138           6.0          3.0           4.8          1.8  Iris-virginica\n",
      "139           6.9          3.1           5.4          2.1  Iris-virginica\n",
      "140           6.7          3.1           5.6          2.4  Iris-virginica\n",
      "141           6.9          3.1           5.1          2.3  Iris-virginica\n",
      "142           5.8          2.7           5.1          1.9  Iris-virginica\n",
      "143           6.8          3.2           5.9          2.3  Iris-virginica\n",
      "144           6.7          3.3           5.7          2.5  Iris-virginica\n",
      "145           6.7          3.0           5.2          2.3  Iris-virginica\n",
      "146           6.3          2.5           5.0          1.9  Iris-virginica\n",
      "147           6.5          3.0           5.2          2.0  Iris-virginica\n",
      "148           6.2          3.4           5.4          2.3  Iris-virginica\n",
      "149           5.9          3.0           5.1          1.8  Iris-virginica\n"
     ]
    }
   ],
   "source": [
    "# 5\n",
    "virginica_data = df[df['Species'] == 'Iris-virginica']\n",
    "print(virginica_data)"
   ]
  },
  {
   "cell_type": "markdown",
   "id": "1451215d",
   "metadata": {},
   "source": [
    "## Exercise 2.1.3 \n",
    "### DataFrame and data summarization"
   ]
  },
  {
   "cell_type": "markdown",
   "id": "bf7db517",
   "metadata": {},
   "source": [
    "1. Get the minimum, maximum, mean and median petal width.\n",
    "2. Get the number of entries per species.\n",
    "3. Plot species count as barplot.\n",
    "4. Get the mean petal width by species."
   ]
  },
  {
   "cell_type": "code",
   "execution_count": 10,
   "id": "c49b2dbc",
   "metadata": {},
   "outputs": [
    {
     "name": "stdout",
     "output_type": "stream",
     "text": [
      "Minimum Petal Width:  0.1\n",
      "Maximum Petal Width:  2.5\n",
      "Mean Petal Width:  1.1986666666666668\n",
      "Median Petal Width:  1.3\n"
     ]
    }
   ],
   "source": [
    "# 1\n",
    "print(\"Minimum Petal Width: \", df['Petal_Width'].min())\n",
    "print(\"Maximum Petal Width: \", df['Petal_Width'].max())\n",
    "print(\"Mean Petal Width: \", df['Petal_Width'].mean())\n",
    "print(\"Median Petal Width: \", df['Petal_Width'].median())"
   ]
  },
  {
   "cell_type": "code",
   "execution_count": 11,
   "id": "d0669d5c",
   "metadata": {},
   "outputs": [
    {
     "name": "stdout",
     "output_type": "stream",
     "text": [
      "Species\n",
      "Iris-setosa        50\n",
      "Iris-versicolor    50\n",
      "Iris-virginica     50\n",
      "Name: count, dtype: int64\n"
     ]
    }
   ],
   "source": [
    "# 2\n",
    "print(df['Species'].value_counts())"
   ]
  },
  {
   "cell_type": "code",
   "execution_count": 12,
   "id": "23a3eec7",
   "metadata": {},
   "outputs": [
    {
     "data": {
      "image/png": "[encoded data removed]",
      "text/plain": [
       "<Figure size 640x480 with 1 Axes>"
      ]
     },
     "metadata": {},
     "output_type": "display_data"
    }
   ],
   "source": [
    "# 3\n",
    "df['Species'].value_counts().plot(kind='bar')\n",
    "plt.show()"
   ]
  },
  {
   "cell_type": "code",
   "execution_count": 13,
   "id": "28b4f031",
   "metadata": {},
   "outputs": [
    {
     "name": "stdout",
     "output_type": "stream",
     "text": [
      "Species\n",
      "Iris-setosa        0.244\n",
      "Iris-versicolor    1.326\n",
      "Iris-virginica     2.026\n",
      "Name: Petal_Width, dtype: float64\n"
     ]
    }
   ],
   "source": [
    "# 4\n",
    "print(df.groupby('Species')['Petal_Width'].mean())"
   ]
  },
  {
   "cell_type": "markdown",
   "id": "d223c013",
   "metadata": {},
   "source": [
    "## Exercise 2.1.4 \n",
    "### Filling-up a DataFrame"
   ]
  },
  {
   "cell_type": "markdown",
   "id": "b013b406",
   "metadata": {},
   "source": [
    "1. Create a DataFrame with three columns species, height and weight and add an entry to the end.\n",
    "2. Create a DataFrame with the same columns and 50 empty entries. Fill-up the data frame row by row with 50 random entries.\n",
    "3. Update every second entry, set the species name to M.musculus.\n",
    "4. Save the DataFrame to your harddisk as a csv file. Include the header but not the row indexes.\n",
    "5. Save the DataFrame as a tsv file (tab separated values)."
   ]
  },
  {
   "cell_type": "code",
   "execution_count": 14,
   "id": "ea61defe",
   "metadata": {},
   "outputs": [
    {
     "data": {
      "text/html": [
       "<div>\n",
       "<style scoped>\n",
       "    .dataframe tbody tr th:only-of-type {\n",
       "        vertical-align: middle;\n",
       "    }\n",
       "\n",
       "    .dataframe tbody tr th {\n",
       "        vertical-align: top;\n",
       "    }\n",
       "\n",
       "    .dataframe thead th {\n",
       "        text-align: right;\n",
       "    }\n",
       "</style>\n",
       "<table border=\"1\" class=\"dataframe\">\n",
       "  <thead>\n",
       "    <tr style=\"text-align: right;\">\n",
       "      <th></th>\n",
       "      <th>species</th>\n",
       "      <th>height</th>\n",
       "      <th>weight</th>\n",
       "    </tr>\n",
       "  </thead>\n",
       "  <tbody>\n",
       "    <tr>\n",
       "      <th>0</th>\n",
       "      <td>Homo sapiens</td>\n",
       "      <td>170</td>\n",
       "      <td>70</td>\n",
       "    </tr>\n",
       "  </tbody>\n",
       "</table>\n",
       "</div>"
      ],
      "text/plain": [
       "        species height weight\n",
       "0  Homo sapiens    170     70"
      ]
     },
     "execution_count": 14,
     "metadata": {},
     "output_type": "execute_result"
    }
   ],
   "source": [
    "df_new = pd.DataFrame(columns=['species', 'height', 'weight'])\n",
    "data = pd.DataFrame([['Homo sapiens', 170, 70]], columns=['species', 'height', 'weight'])\n",
    "df_new = pd.concat([df_new, data], ignore_index=True)\n",
    "df_new"
   ]
  },
  {
   "cell_type": "code",
   "execution_count": 20,
   "id": "7b640adf",
   "metadata": {},
   "outputs": [
    {
     "data": {
      "text/html": [
       "<div>\n",
       "<style scoped>\n",
       "    .dataframe tbody tr th:only-of-type {\n",
       "        vertical-align: middle;\n",
       "    }\n",
       "\n",
       "    .dataframe tbody tr th {\n",
       "        vertical-align: top;\n",
       "    }\n",
       "\n",
       "    .dataframe thead th {\n",
       "        text-align: right;\n",
       "    }\n",
       "</style>\n",
       "<table border=\"1\" class=\"dataframe\">\n",
       "  <thead>\n",
       "    <tr style=\"text-align: right;\">\n",
       "      <th></th>\n",
       "      <th>species</th>\n",
       "      <th>height</th>\n",
       "      <th>weight</th>\n",
       "    </tr>\n",
       "  </thead>\n",
       "  <tbody>\n",
       "    <tr>\n",
       "      <th>0</th>\n",
       "      <td>Species0</td>\n",
       "      <td>119</td>\n",
       "      <td>57</td>\n",
       "    </tr>\n",
       "    <tr>\n",
       "      <th>1</th>\n",
       "      <td>Species1</td>\n",
       "      <td>111</td>\n",
       "      <td>53</td>\n",
       "    </tr>\n",
       "    <tr>\n",
       "      <th>2</th>\n",
       "      <td>Species2</td>\n",
       "      <td>176</td>\n",
       "      <td>22</td>\n",
       "    </tr>\n",
       "    <tr>\n",
       "      <th>3</th>\n",
       "      <td>Species3</td>\n",
       "      <td>158</td>\n",
       "      <td>72</td>\n",
       "    </tr>\n",
       "    <tr>\n",
       "      <th>4</th>\n",
       "      <td>Species4</td>\n",
       "      <td>115</td>\n",
       "      <td>53</td>\n",
       "    </tr>\n",
       "    <tr>\n",
       "      <th>5</th>\n",
       "      <td>Species5</td>\n",
       "      <td>104</td>\n",
       "      <td>67</td>\n",
       "    </tr>\n",
       "    <tr>\n",
       "      <th>6</th>\n",
       "      <td>Species6</td>\n",
       "      <td>196</td>\n",
       "      <td>61</td>\n",
       "    </tr>\n",
       "    <tr>\n",
       "      <th>7</th>\n",
       "      <td>Species7</td>\n",
       "      <td>150</td>\n",
       "      <td>47</td>\n",
       "    </tr>\n",
       "    <tr>\n",
       "      <th>8</th>\n",
       "      <td>Species8</td>\n",
       "      <td>143</td>\n",
       "      <td>86</td>\n",
       "    </tr>\n",
       "    <tr>\n",
       "      <th>9</th>\n",
       "      <td>Species9</td>\n",
       "      <td>148</td>\n",
       "      <td>26</td>\n",
       "    </tr>\n",
       "    <tr>\n",
       "      <th>10</th>\n",
       "      <td>Species10</td>\n",
       "      <td>151</td>\n",
       "      <td>88</td>\n",
       "    </tr>\n",
       "    <tr>\n",
       "      <th>11</th>\n",
       "      <td>Species11</td>\n",
       "      <td>152</td>\n",
       "      <td>21</td>\n",
       "    </tr>\n",
       "    <tr>\n",
       "      <th>12</th>\n",
       "      <td>Species12</td>\n",
       "      <td>165</td>\n",
       "      <td>96</td>\n",
       "    </tr>\n",
       "    <tr>\n",
       "      <th>13</th>\n",
       "      <td>Species13</td>\n",
       "      <td>115</td>\n",
       "      <td>54</td>\n",
       "    </tr>\n",
       "    <tr>\n",
       "      <th>14</th>\n",
       "      <td>Species14</td>\n",
       "      <td>106</td>\n",
       "      <td>59</td>\n",
       "    </tr>\n",
       "    <tr>\n",
       "      <th>15</th>\n",
       "      <td>Species15</td>\n",
       "      <td>109</td>\n",
       "      <td>73</td>\n",
       "    </tr>\n",
       "    <tr>\n",
       "      <th>16</th>\n",
       "      <td>Species16</td>\n",
       "      <td>164</td>\n",
       "      <td>90</td>\n",
       "    </tr>\n",
       "    <tr>\n",
       "      <th>17</th>\n",
       "      <td>Species17</td>\n",
       "      <td>176</td>\n",
       "      <td>37</td>\n",
       "    </tr>\n",
       "    <tr>\n",
       "      <th>18</th>\n",
       "      <td>Species18</td>\n",
       "      <td>148</td>\n",
       "      <td>57</td>\n",
       "    </tr>\n",
       "    <tr>\n",
       "      <th>19</th>\n",
       "      <td>Species19</td>\n",
       "      <td>149</td>\n",
       "      <td>80</td>\n",
       "    </tr>\n",
       "    <tr>\n",
       "      <th>20</th>\n",
       "      <td>Species20</td>\n",
       "      <td>134</td>\n",
       "      <td>24</td>\n",
       "    </tr>\n",
       "    <tr>\n",
       "      <th>21</th>\n",
       "      <td>Species21</td>\n",
       "      <td>188</td>\n",
       "      <td>59</td>\n",
       "    </tr>\n",
       "    <tr>\n",
       "      <th>22</th>\n",
       "      <td>Species22</td>\n",
       "      <td>197</td>\n",
       "      <td>65</td>\n",
       "    </tr>\n",
       "    <tr>\n",
       "      <th>23</th>\n",
       "      <td>Species23</td>\n",
       "      <td>131</td>\n",
       "      <td>35</td>\n",
       "    </tr>\n",
       "    <tr>\n",
       "      <th>24</th>\n",
       "      <td>Species24</td>\n",
       "      <td>136</td>\n",
       "      <td>80</td>\n",
       "    </tr>\n",
       "    <tr>\n",
       "      <th>25</th>\n",
       "      <td>Species25</td>\n",
       "      <td>153</td>\n",
       "      <td>43</td>\n",
       "    </tr>\n",
       "    <tr>\n",
       "      <th>26</th>\n",
       "      <td>Species26</td>\n",
       "      <td>188</td>\n",
       "      <td>58</td>\n",
       "    </tr>\n",
       "    <tr>\n",
       "      <th>27</th>\n",
       "      <td>Species27</td>\n",
       "      <td>153</td>\n",
       "      <td>78</td>\n",
       "    </tr>\n",
       "    <tr>\n",
       "      <th>28</th>\n",
       "      <td>Species28</td>\n",
       "      <td>163</td>\n",
       "      <td>98</td>\n",
       "    </tr>\n",
       "    <tr>\n",
       "      <th>29</th>\n",
       "      <td>Species29</td>\n",
       "      <td>116</td>\n",
       "      <td>25</td>\n",
       "    </tr>\n",
       "    <tr>\n",
       "      <th>30</th>\n",
       "      <td>Species30</td>\n",
       "      <td>187</td>\n",
       "      <td>66</td>\n",
       "    </tr>\n",
       "    <tr>\n",
       "      <th>31</th>\n",
       "      <td>Species31</td>\n",
       "      <td>184</td>\n",
       "      <td>56</td>\n",
       "    </tr>\n",
       "    <tr>\n",
       "      <th>32</th>\n",
       "      <td>Species32</td>\n",
       "      <td>133</td>\n",
       "      <td>37</td>\n",
       "    </tr>\n",
       "    <tr>\n",
       "      <th>33</th>\n",
       "      <td>Species33</td>\n",
       "      <td>192</td>\n",
       "      <td>64</td>\n",
       "    </tr>\n",
       "    <tr>\n",
       "      <th>34</th>\n",
       "      <td>Species34</td>\n",
       "      <td>177</td>\n",
       "      <td>35</td>\n",
       "    </tr>\n",
       "    <tr>\n",
       "      <th>35</th>\n",
       "      <td>Species35</td>\n",
       "      <td>157</td>\n",
       "      <td>65</td>\n",
       "    </tr>\n",
       "    <tr>\n",
       "      <th>36</th>\n",
       "      <td>Species36</td>\n",
       "      <td>181</td>\n",
       "      <td>59</td>\n",
       "    </tr>\n",
       "    <tr>\n",
       "      <th>37</th>\n",
       "      <td>Species37</td>\n",
       "      <td>161</td>\n",
       "      <td>45</td>\n",
       "    </tr>\n",
       "    <tr>\n",
       "      <th>38</th>\n",
       "      <td>Species38</td>\n",
       "      <td>166</td>\n",
       "      <td>56</td>\n",
       "    </tr>\n",
       "    <tr>\n",
       "      <th>39</th>\n",
       "      <td>Species39</td>\n",
       "      <td>118</td>\n",
       "      <td>69</td>\n",
       "    </tr>\n",
       "    <tr>\n",
       "      <th>40</th>\n",
       "      <td>Species40</td>\n",
       "      <td>141</td>\n",
       "      <td>30</td>\n",
       "    </tr>\n",
       "    <tr>\n",
       "      <th>41</th>\n",
       "      <td>Species41</td>\n",
       "      <td>167</td>\n",
       "      <td>60</td>\n",
       "    </tr>\n",
       "    <tr>\n",
       "      <th>42</th>\n",
       "      <td>Species42</td>\n",
       "      <td>154</td>\n",
       "      <td>68</td>\n",
       "    </tr>\n",
       "    <tr>\n",
       "      <th>43</th>\n",
       "      <td>Species43</td>\n",
       "      <td>155</td>\n",
       "      <td>35</td>\n",
       "    </tr>\n",
       "    <tr>\n",
       "      <th>44</th>\n",
       "      <td>Species44</td>\n",
       "      <td>110</td>\n",
       "      <td>58</td>\n",
       "    </tr>\n",
       "    <tr>\n",
       "      <th>45</th>\n",
       "      <td>Species45</td>\n",
       "      <td>117</td>\n",
       "      <td>72</td>\n",
       "    </tr>\n",
       "    <tr>\n",
       "      <th>46</th>\n",
       "      <td>Species46</td>\n",
       "      <td>130</td>\n",
       "      <td>31</td>\n",
       "    </tr>\n",
       "    <tr>\n",
       "      <th>47</th>\n",
       "      <td>Species47</td>\n",
       "      <td>171</td>\n",
       "      <td>23</td>\n",
       "    </tr>\n",
       "    <tr>\n",
       "      <th>48</th>\n",
       "      <td>Species48</td>\n",
       "      <td>186</td>\n",
       "      <td>85</td>\n",
       "    </tr>\n",
       "    <tr>\n",
       "      <th>49</th>\n",
       "      <td>Species49</td>\n",
       "      <td>144</td>\n",
       "      <td>23</td>\n",
       "    </tr>\n",
       "  </tbody>\n",
       "</table>\n",
       "</div>"
      ],
      "text/plain": [
       "      species height weight\n",
       "0    Species0    119     57\n",
       "1    Species1    111     53\n",
       "2    Species2    176     22\n",
       "3    Species3    158     72\n",
       "4    Species4    115     53\n",
       "5    Species5    104     67\n",
       "6    Species6    196     61\n",
       "7    Species7    150     47\n",
       "8    Species8    143     86\n",
       "9    Species9    148     26\n",
       "10  Species10    151     88\n",
       "11  Species11    152     21\n",
       "12  Species12    165     96\n",
       "13  Species13    115     54\n",
       "14  Species14    106     59\n",
       "15  Species15    109     73\n",
       "16  Species16    164     90\n",
       "17  Species17    176     37\n",
       "18  Species18    148     57\n",
       "19  Species19    149     80\n",
       "20  Species20    134     24\n",
       "21  Species21    188     59\n",
       "22  Species22    197     65\n",
       "23  Species23    131     35\n",
       "24  Species24    136     80\n",
       "25  Species25    153     43\n",
       "26  Species26    188     58\n",
       "27  Species27    153     78\n",
       "28  Species28    163     98\n",
       "29  Species29    116     25\n",
       "30  Species30    187     66\n",
       "31  Species31    184     56\n",
       "32  Species32    133     37\n",
       "33  Species33    192     64\n",
       "34  Species34    177     35\n",
       "35  Species35    157     65\n",
       "36  Species36    181     59\n",
       "37  Species37    161     45\n",
       "38  Species38    166     56\n",
       "39  Species39    118     69\n",
       "40  Species40    141     30\n",
       "41  Species41    167     60\n",
       "42  Species42    154     68\n",
       "43  Species43    155     35\n",
       "44  Species44    110     58\n",
       "45  Species45    117     72\n",
       "46  Species46    130     31\n",
       "47  Species47    171     23\n",
       "48  Species48    186     85\n",
       "49  Species49    144     23"
      ]
     },
     "execution_count": 20,
     "metadata": {},
     "output_type": "execute_result"
    }
   ],
   "source": [
    "df2 = pd.DataFrame(index=range(50), columns=['species', 'height', 'weight'])\n",
    "\n",
    "for i in range(50):\n",
    "    df2.loc[i] = ['Species' + str(i), np.random.randint(100, 200), np.random.randint(20, 100)]\n",
    "df2"
   ]
  },
  {
   "cell_type": "code",
   "execution_count": 16,
   "id": "016770c1",
   "metadata": {},
   "outputs": [],
   "source": [
    "df2.loc[::2, 'species'] = 'M.musculus'"
   ]
  },
  {
   "cell_type": "code",
   "execution_count": 17,
   "id": "215057e8",
   "metadata": {},
   "outputs": [],
   "source": [
    "df2.to_csv('dataframe.csv', index=False)\n"
   ]
  },
  {
   "cell_type": "code",
   "execution_count": 18,
   "id": "ad47600a",
   "metadata": {},
   "outputs": [],
   "source": [
    "df2.to_csv('dataframe.tsv', sep='\\t', index=False)\n"
   ]
  }
 ],
 "metadata": {
  "kernelspec": {
   "display_name": "Python 3 (ipykernel)",
   "language": "python",
   "name": "python3"
  },
  "language_info": {
   "codemirror_mode": {
    "name": "ipython",
    "version": 3
   },
   "file_extension": ".py",
   "mimetype": "text/x-python",
   "name": "python",
   "nbconvert_exporter": "python",
   "pygments_lexer": "ipython3",
   "version": "3.11.5"
  }
 },
 "nbformat": 4,
 "nbformat_minor": 5
}
